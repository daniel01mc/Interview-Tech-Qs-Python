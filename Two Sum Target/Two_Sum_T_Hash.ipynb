{
  "nbformat": 4,
  "nbformat_minor": 0,
  "metadata": {
    "colab": {
      "provenance": [],
      "authorship_tag": "ABX9TyPQaNQeaYUrv+k8UxLTOatP",
      "include_colab_link": true
    },
    "kernelspec": {
      "name": "python3",
      "display_name": "Python 3"
    },
    "language_info": {
      "name": "python"
    }
  },
  "cells": [
    {
      "cell_type": "markdown",
      "metadata": {
        "id": "view-in-github",
        "colab_type": "text"
      },
      "source": [
        "<a href=\"https://colab.research.google.com/github/daniel01mc/Interview-Tech-Qs-Python/blob/main/Two%20Sum%20Target/Two_Sum_T_Hash.ipynb\" target=\"_parent\"><img src=\"https://colab.research.google.com/assets/colab-badge.svg\" alt=\"Open In Colab\"/></a>"
      ]
    },
    {
      "cell_type": "code",
      "execution_count": 83,
      "metadata": {
        "id": "LWh4g87R1I5Q"
      },
      "outputs": [],
      "source": [
        "def two_sum_target(nums,target):\n",
        "\n",
        "  h_map={}\n",
        "\n",
        "# Looping through array\n",
        "# Enumarate(iterate through list, start at 0 by default) \n",
        "  for i,j in enumerate(nums):\n",
        "    total_target = target - nums[i]\n",
        "\n",
        "    #val = h_map.keys()\n",
        "    #ind = h_map.values()\n",
        "    \n",
        "    #print(\"\\nTarget value:\",val)\n",
        "    #print(\"Target indices:\",ind)\n",
        "\n",
        "    # if the target is in the hashmap return the index and where the last iteration is located\n",
        "    if total_target in h_map:\n",
        "      #print(\"\\n\")\n",
        "      return [i, h_map[total_target]]\n",
        "    \n",
        "    h_map[j] = i\n",
        "\n",
        "\n",
        "    "
      ]
    },
    {
      "cell_type": "code",
      "source": [
        "my_nums = [1,3,7,9,2]\n",
        "t = 11\n",
        "\n",
        "two_sum_target(my_nums, t)"
      ],
      "metadata": {
        "colab": {
          "base_uri": "https://localhost:8080/"
        },
        "id": "crtKBjzn1xnt",
        "outputId": "72ee4cdd-189b-4d6a-81b4-94f0dafc6e80"
      },
      "execution_count": 84,
      "outputs": [
        {
          "output_type": "execute_result",
          "data": {
            "text/plain": [
              "[4, 3]"
            ]
          },
          "metadata": {},
          "execution_count": 84
        }
      ]
    }
  ]
}