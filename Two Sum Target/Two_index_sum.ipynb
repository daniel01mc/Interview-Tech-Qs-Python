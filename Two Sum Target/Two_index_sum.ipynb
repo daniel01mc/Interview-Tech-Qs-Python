{
  "nbformat": 4,
  "nbformat_minor": 0,
  "metadata": {
    "colab": {
      "provenance": [],
      "authorship_tag": "ABX9TyNXsCOHSSX+DWMyoJerLVuc",
      "include_colab_link": true
    },
    "kernelspec": {
      "name": "python3",
      "display_name": "Python 3"
    },
    "language_info": {
      "name": "python"
    }
  },
  "cells": [
    {
      "cell_type": "markdown",
      "metadata": {
        "id": "view-in-github",
        "colab_type": "text"
      },
      "source": [
        "<a href=\"https://colab.research.google.com/github/daniel01mc/Interview-Tech-Qs-Python/blob/main/Two%20Sum%20Target/Two_index_sum.ipynb\" target=\"_parent\"><img src=\"https://colab.research.google.com/assets/colab-badge.svg\" alt=\"Open In Colab\"/></a>"
      ]
    },
    {
      "cell_type": "markdown",
      "source": [
        "#### Code Written by: Daniel Cisneros\n",
        "\n",
        "##### **Problem:** Given an array of integers, return the indices of the two numbers that add up to a given target."
      ],
      "metadata": {
        "id": "ixcDsLPlP6z0"
      }
    },
    {
      "cell_type": "markdown",
      "source": [
        "###### Creating Function that will sum items in the array and print the indices. Return null if no case exist."
      ],
      "metadata": {
        "id": "-Am_Qk6rQvSr"
      }
    },
    {
      "cell_type": "code",
      "source": [
        "def two_sum_target(nums,target):\n",
        "\n",
        "  i = 0\n",
        "  j = 0\n",
        "\n",
        "# Looping through array \n",
        "  for i in range (len(nums)):\n",
        "    total_target = target - nums[i]\n",
        "\n",
        "\n",
        "    for j in range (i+1,len(nums)):\n",
        "      if total_target == nums[j]:\n",
        "        \n",
        "        # return the indices that add up to given target \n",
        "        return 'Indices that add up to target', \"position\", [i], \"and\",[j]\n",
        "      "
      ],
      "metadata": {
        "id": "vfA0j6StIiMj"
      },
      "execution_count": 107,
      "outputs": []
    },
    {
      "cell_type": "code",
      "execution_count": 108,
      "metadata": {
        "id": "Q0pTJ091HuNI",
        "colab": {
          "base_uri": "https://localhost:8080/"
        },
        "outputId": "f5901ec0-6225-47f1-b6ea-d3228724b0eb"
      },
      "outputs": [
        {
          "output_type": "execute_result",
          "data": {
            "text/plain": [
              "('Indices that add up to target', 'position', [3], 'and', [4])"
            ]
          },
          "metadata": {},
          "execution_count": 108
        }
      ],
      "source": [
        "my_nums = [1,3,7,9,2]\n",
        "t = 11\n",
        "\n",
        "two_sum_target(my_nums, t)"
      ]
    }
  ]
}